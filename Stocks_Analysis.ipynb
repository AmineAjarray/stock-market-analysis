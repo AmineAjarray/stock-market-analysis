{
 "cells": [
  {
   "cell_type": "markdown",
   "id": "97a157b7",
   "metadata": {},
   "source": [
    "\n",
    "<h6 align = \"center\">Done by : AJARRAY Amine @ <a href = \"mailto: ajarray@insea.ac.ma\">aajarray@insea.ac.ma</a></h3>\n",
    "<h6 align = \"center\">January 2022</h3></li>"
   ]
  },
  {
   "cell_type": "markdown",
   "id": "63ae2073",
   "metadata": {},
   "source": [
    "# INTRODUCTION : "
   ]
  },
  {
   "cell_type": "markdown",
   "id": "3d44ba18",
   "metadata": {},
   "source": [
    "Just having a good degree is no longer enough to secure that all-important graduate job offer in today’s world. Pertinent work experience is now just as valuable as degree and exam results when it comes to building a successful career. As a result, internships have become an essential way to help candidates make themselves stand out. The importance of an internship has been shown in several recent surveys.<br />\n",
    "By partaking in an internship, I will be able to gain real-life exposure, grow my knowledge and determine if I'am in the right career field. Internships not only provide me with the first-hand experience in the real working world but also enable me to understand the career trajectory for my desired job title. <br/>\n",
    "This paper work contains practical interview to an internship at FinaMaze. It contains three parts which will gradually lead to solve a financial problem using python. \n",
    "<ul>\n",
    "    <li> <strong>STEP I</strong>: DATA PROCESSING.</li>\n",
    "    <li> <strong>STEP II</strong>: DATA WRANGLING AND VISUALIZATION.</li>\n",
    "    <li> <strong>STEP III</strong>: GET TO KNOW DATA.</li>\n",
    "    <li> <strong>STEP IV</strong>: INVESTOR STRATEGIES SIMULATIONS.</li>\n",
    "    <li> <strong>STEP VI</strong>: NUMERICAL TECHNIQUES AND ALGORITHMS.</li>\n",
    "</ul>   "
   ]
  },
  {
   "cell_type": "markdown",
   "id": "c34d9d9b",
   "metadata": {},
   "source": [
    "# IMPORTING LIBRARIES"
   ]
  },
  {
   "cell_type": "markdown",
   "id": "4b49c501",
   "metadata": {},
   "source": [
    "<img src=\"data:image/png;base64,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\"/>\n",
    "Pandas is a software library written for the Python programming language for data manipulation and analysis. In particular, it offers data structures and operations for manipulating numerical tables and time series. It is free software released under the three-clause BSD license."
   ]
  },
  {
   "cell_type": "markdown",
   "id": "e4ca5eb7",
   "metadata": {},
   "source": [
    "<img src = \"data:image/png;base64,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\"/>\n",
    "Matplotlib is a plotting library for the Python programming language and its numerical mathematics extension NumPy. It provides an object-oriented API for embedding plots into applications using general-purpose GUI toolkits like Tkinter, wxPython, Qt, or GTK."
   ]
  },
  {
   "cell_type": "markdown",
   "id": "7e139b63",
   "metadata": {},
   "source": [
    "<img src = \"data:image/png;base64,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\"/>\n",
    "NumPy is a library for the Python programming language, adding support for large, multi-dimensional arrays and matrices, along with a large collection of high-level mathematical functions to operate on these arrays."
   ]
  },
  {
   "cell_type": "markdown",
   "id": "4b0bb69a",
   "metadata": {},
   "source": [
    "<img src = \"data:image/png;base64,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\"/>\n",
    "SciPy is a free and open-source Python library used for scientific computing and technical computing. SciPy contains modules for optimization, linear algebra, integration, interpolation, special functions, FFT, signal and image processing, ODE solvers and other tasks common in science and engineering."
   ]
  },
  {
   "cell_type": "code",
   "execution_count": 20,
   "id": "e59e26b8",
   "metadata": {},
   "outputs": [],
   "source": [
    "import numpy as np\n",
    "import pandas as pd\n",
    "import matplotlib.pyplot as plt\n",
    "import matplotlib.dates as mdates\n",
    "\n",
    "from matplotlib.pyplot import cm\n",
    "from matplotlib.animation import FuncAnimation\n",
    "from matplotlib.ticker import FormatStrFormatter\n",
    "\n",
    "import seaborn as sns\n",
    "sns.set()"
   ]
  },
  {
   "cell_type": "code",
   "execution_count": 5,
   "id": "748c291a",
   "metadata": {},
   "outputs": [],
   "source": [
    "import os\n",
    "os.chdir('C:\\\\Users\\\\DELL\\\\Desktop\\\\stage\\\\FinaMaze_Intern\\\\stocks_analysis')"
   ]
  },
  {
   "cell_type": "markdown",
   "id": "fad69999",
   "metadata": {},
   "source": [
    "# STEP I: DATA PROCESSING"
   ]
  },
  {
   "cell_type": "code",
   "execution_count": 6,
   "id": "81b856d5",
   "metadata": {},
   "outputs": [],
   "source": [
    "import pandas as pd\n",
    "def extract_data(data, stock, whole_data, start_date=None, end_date=None):\n",
    "    dic={}\n",
    "    stock=stock\n",
    "    n=len(jsondata[stock])\n",
    "    dates=[]\n",
    "    close_prices=[]\n",
    "    dic={}\n",
    "    for i in range(n):\n",
    "        dates.append(jsondata[stock][i]['Date'])\n",
    "        close_prices.append(jsondata[stock][i]['Close'])\n",
    "\n",
    "    dic['date']=dates\n",
    "    dic['close'+'_'+stock]=close_prices\n",
    "    dataframe=pd.DataFrame.from_dict(dic)\n",
    "    dataframe['date'] = pd.to_datetime(dataframe['date'], format=\"%Y-%m-%d\")\n",
    "    dataframe=dataframe.sort_values('date')\n",
    "    if whole_data:\n",
    "        return dataframe.set_index('date')\n",
    "    else:\n",
    "        mask = (dataframe['date'] >= start_date) & (dataframe['date'] <= end_date)\n",
    "        dataframe=dataframe.loc[mask]\n",
    "        return dataframe.set_index('date')"
   ]
  },
  {
   "cell_type": "code",
   "execution_count": 7,
   "id": "3655bf1e",
   "metadata": {},
   "outputs": [],
   "source": [
    "import json\n",
    "with open(\"data_market.json\") as jsonFile:\n",
    "    jsondata = json.load(jsonFile)\n",
    "    jsonFile.close()"
   ]
  },
  {
   "cell_type": "code",
   "execution_count": 8,
   "id": "6dc52adf",
   "metadata": {},
   "outputs": [],
   "source": [
    "import random\n",
    "def concatenated_data(stocks,start_date,end_date):\n",
    "    df1=extract_data(jsondata,stocks[0],False,start_date,end_date)\n",
    "    df2=extract_data(jsondata,stocks[1],False,start_date,end_date)\n",
    "    df3=extract_data(jsondata,stocks[2],False,start_date,end_date)\n",
    "    result = pd.merge(df1,df2,on='date',how='outer')\n",
    "    df = pd.merge(result,df3,on='date',how='outer')\n",
    "    df = df.sort_values(by=['date'])\n",
    "    return df"
   ]
  },
  {
   "cell_type": "code",
   "execution_count": 9,
   "id": "fd8eaaf8",
   "metadata": {},
   "outputs": [
    {
     "data": {
      "text/plain": [
       "['GOOG', 'AMZN', 'TSLA']"
      ]
     },
     "execution_count": 9,
     "metadata": {},
     "output_type": "execute_result"
    }
   ],
   "source": [
    "random.seed(8)\n",
    "l=list(jsondata.keys())\n",
    "stocks=random.sample(l,3)\n",
    "dataset=concatenated_data(stocks,'2017-01-01','2021-12-31')\n",
    "stocks"
   ]
  },
  {
   "cell_type": "code",
   "execution_count": 10,
   "id": "972b2372",
   "metadata": {},
   "outputs": [
    {
     "name": "stdout",
     "output_type": "stream",
     "text": [
      "<class 'pandas.core.frame.DataFrame'>\n",
      "DatetimeIndex: 1258 entries, 2017-01-03 to 2021-12-31\n",
      "Data columns (total 3 columns):\n",
      " #   Column      Non-Null Count  Dtype  \n",
      "---  ------      --------------  -----  \n",
      " 0   close_GOOG  1162 non-null   float64\n",
      " 1   close_AMZN  1158 non-null   float64\n",
      " 2   close_TSLA  1172 non-null   float64\n",
      "dtypes: float64(3)\n",
      "memory usage: 39.3 KB\n"
     ]
    }
   ],
   "source": [
    "dataset.info()"
   ]
  },
  {
   "cell_type": "markdown",
   "id": "9a845f48",
   "metadata": {},
   "source": [
    "We stocked our data in DataFrame format because it's a flexibile and flat format and many Machine Learning and Time Series models in general require flat data structure(If we want to predict stocks prices). Also This fromat will allow us to calculate portfolio metrics easly."
   ]
  },
  {
   "cell_type": "markdown",
   "id": "6912d1fd",
   "metadata": {},
   "source": [
    "# STEP II: DATA WRANGLING AND VISUALIZATION"
   ]
  },
  {
   "cell_type": "markdown",
   "id": "6e06ce1d",
   "metadata": {},
   "source": [
    "## II-1: Missing data"
   ]
  },
  {
   "cell_type": "markdown",
   "id": "a7a3f8d7",
   "metadata": {},
   "source": [
    "We can’t  change the missing values with global mean or medien because the time series data might have some like seasonality or trend and it can cause bias to the data. Estimation or imputation of the missing data with the values produced by some procedures or algorithms can be the best possible solution to minimize the bias effect of the conventional method of the data. So that at last, the data will be completed and ready to use for another step of analysis or data mining. We will choose to estimate a missing day stock value by Forward-fill Missing Values (Using value of next row to fill the missing value)."
   ]
  },
  {
   "cell_type": "code",
   "execution_count": 11,
   "id": "f84dec2b",
   "metadata": {},
   "outputs": [],
   "source": [
    "def compute_missing_data(data):\n",
    "    final_data = data.ffill()\n",
    "    return final_data\n"
   ]
  },
  {
   "cell_type": "code",
   "execution_count": 12,
   "id": "c4335e8c",
   "metadata": {},
   "outputs": [],
   "source": [
    "final_data = compute_missing_data(dataset)"
   ]
  },
  {
   "cell_type": "code",
   "execution_count": 13,
   "id": "b31b4f78",
   "metadata": {},
   "outputs": [
    {
     "data": {
      "text/html": [
       "<div>\n",
       "<style scoped>\n",
       "    .dataframe tbody tr th:only-of-type {\n",
       "        vertical-align: middle;\n",
       "    }\n",
       "\n",
       "    .dataframe tbody tr th {\n",
       "        vertical-align: top;\n",
       "    }\n",
       "\n",
       "    .dataframe thead th {\n",
       "        text-align: right;\n",
       "    }\n",
       "</style>\n",
       "<table border=\"1\" class=\"dataframe\">\n",
       "  <thead>\n",
       "    <tr style=\"text-align: right;\">\n",
       "      <th></th>\n",
       "      <th>close_GOOG</th>\n",
       "      <th>close_AMZN</th>\n",
       "      <th>close_TSLA</th>\n",
       "    </tr>\n",
       "    <tr>\n",
       "      <th>date</th>\n",
       "      <th></th>\n",
       "      <th></th>\n",
       "      <th></th>\n",
       "    </tr>\n",
       "  </thead>\n",
       "  <tbody>\n",
       "    <tr>\n",
       "      <th>2017-01-03</th>\n",
       "      <td>786.140015</td>\n",
       "      <td>753.669983</td>\n",
       "      <td>43.397999</td>\n",
       "    </tr>\n",
       "    <tr>\n",
       "      <th>2017-01-04</th>\n",
       "      <td>786.900024</td>\n",
       "      <td>757.179993</td>\n",
       "      <td>45.397999</td>\n",
       "    </tr>\n",
       "    <tr>\n",
       "      <th>2017-01-05</th>\n",
       "      <td>794.020020</td>\n",
       "      <td>780.450012</td>\n",
       "      <td>45.349998</td>\n",
       "    </tr>\n",
       "    <tr>\n",
       "      <th>2017-01-06</th>\n",
       "      <td>806.150024</td>\n",
       "      <td>795.989990</td>\n",
       "      <td>45.801998</td>\n",
       "    </tr>\n",
       "    <tr>\n",
       "      <th>2017-01-09</th>\n",
       "      <td>806.650024</td>\n",
       "      <td>796.919983</td>\n",
       "      <td>46.256001</td>\n",
       "    </tr>\n",
       "    <tr>\n",
       "      <th>2017-01-11</th>\n",
       "      <td>807.909973</td>\n",
       "      <td>799.020020</td>\n",
       "      <td>45.945999</td>\n",
       "    </tr>\n",
       "    <tr>\n",
       "      <th>2017-01-12</th>\n",
       "      <td>806.359985</td>\n",
       "      <td>813.640015</td>\n",
       "      <td>45.917999</td>\n",
       "    </tr>\n",
       "    <tr>\n",
       "      <th>2017-01-13</th>\n",
       "      <td>807.880005</td>\n",
       "      <td>817.140015</td>\n",
       "      <td>47.549999</td>\n",
       "    </tr>\n",
       "    <tr>\n",
       "      <th>2017-01-17</th>\n",
       "      <td>804.609985</td>\n",
       "      <td>809.719971</td>\n",
       "      <td>47.116001</td>\n",
       "    </tr>\n",
       "    <tr>\n",
       "      <th>2017-01-18</th>\n",
       "      <td>806.070007</td>\n",
       "      <td>807.479980</td>\n",
       "      <td>47.672001</td>\n",
       "    </tr>\n",
       "  </tbody>\n",
       "</table>\n",
       "</div>"
      ],
      "text/plain": [
       "            close_GOOG  close_AMZN  close_TSLA\n",
       "date                                          \n",
       "2017-01-03  786.140015  753.669983   43.397999\n",
       "2017-01-04  786.900024  757.179993   45.397999\n",
       "2017-01-05  794.020020  780.450012   45.349998\n",
       "2017-01-06  806.150024  795.989990   45.801998\n",
       "2017-01-09  806.650024  796.919983   46.256001\n",
       "2017-01-11  807.909973  799.020020   45.945999\n",
       "2017-01-12  806.359985  813.640015   45.917999\n",
       "2017-01-13  807.880005  817.140015   47.549999\n",
       "2017-01-17  804.609985  809.719971   47.116001\n",
       "2017-01-18  806.070007  807.479980   47.672001"
      ]
     },
     "execution_count": 13,
     "metadata": {},
     "output_type": "execute_result"
    }
   ],
   "source": [
    "final_data.head(10)"
   ]
  },
  {
   "cell_type": "code",
   "execution_count": 14,
   "id": "272fb292",
   "metadata": {},
   "outputs": [
    {
     "name": "stdout",
     "output_type": "stream",
     "text": [
      "<class 'pandas.core.frame.DataFrame'>\n",
      "DatetimeIndex: 1258 entries, 2017-01-03 to 2021-12-31\n",
      "Data columns (total 3 columns):\n",
      " #   Column      Non-Null Count  Dtype  \n",
      "---  ------      --------------  -----  \n",
      " 0   close_GOOG  1258 non-null   float64\n",
      " 1   close_AMZN  1258 non-null   float64\n",
      " 2   close_TSLA  1258 non-null   float64\n",
      "dtypes: float64(3)\n",
      "memory usage: 39.3 KB\n"
     ]
    }
   ],
   "source": [
    "final_data.info()"
   ]
  },
  {
   "cell_type": "code",
   "execution_count": 15,
   "id": "de7717a0",
   "metadata": {},
   "outputs": [
    {
     "data": {
      "text/html": [
       "<div>\n",
       "<style scoped>\n",
       "    .dataframe tbody tr th:only-of-type {\n",
       "        vertical-align: middle;\n",
       "    }\n",
       "\n",
       "    .dataframe tbody tr th {\n",
       "        vertical-align: top;\n",
       "    }\n",
       "\n",
       "    .dataframe thead th {\n",
       "        text-align: right;\n",
       "    }\n",
       "</style>\n",
       "<table border=\"1\" class=\"dataframe\">\n",
       "  <thead>\n",
       "    <tr style=\"text-align: right;\">\n",
       "      <th></th>\n",
       "      <th>close_GOOG</th>\n",
       "      <th>close_AMZN</th>\n",
       "      <th>close_TSLA</th>\n",
       "    </tr>\n",
       "  </thead>\n",
       "  <tbody>\n",
       "    <tr>\n",
       "      <th>count</th>\n",
       "      <td>1258.000000</td>\n",
       "      <td>1258.000000</td>\n",
       "      <td>1258.000000</td>\n",
       "    </tr>\n",
       "    <tr>\n",
       "      <th>mean</th>\n",
       "      <td>1443.840098</td>\n",
       "      <td>2087.200380</td>\n",
       "      <td>250.692616</td>\n",
       "    </tr>\n",
       "    <tr>\n",
       "      <th>std</th>\n",
       "      <td>594.799696</td>\n",
       "      <td>877.435378</td>\n",
       "      <td>298.428367</td>\n",
       "    </tr>\n",
       "    <tr>\n",
       "      <th>min</th>\n",
       "      <td>786.140015</td>\n",
       "      <td>753.669983</td>\n",
       "      <td>35.793999</td>\n",
       "    </tr>\n",
       "    <tr>\n",
       "      <th>25%</th>\n",
       "      <td>1056.649994</td>\n",
       "      <td>1501.992493</td>\n",
       "      <td>59.854001</td>\n",
       "    </tr>\n",
       "    <tr>\n",
       "      <th>50%</th>\n",
       "      <td>1197.260010</td>\n",
       "      <td>1829.619995</td>\n",
       "      <td>69.537998</td>\n",
       "    </tr>\n",
       "    <tr>\n",
       "      <th>75%</th>\n",
       "      <td>1568.387481</td>\n",
       "      <td>3116.869996</td>\n",
       "      <td>421.145012</td>\n",
       "    </tr>\n",
       "    <tr>\n",
       "      <th>max</th>\n",
       "      <td>3014.179932</td>\n",
       "      <td>3731.409912</td>\n",
       "      <td>1229.910034</td>\n",
       "    </tr>\n",
       "  </tbody>\n",
       "</table>\n",
       "</div>"
      ],
      "text/plain": [
       "        close_GOOG   close_AMZN   close_TSLA\n",
       "count  1258.000000  1258.000000  1258.000000\n",
       "mean   1443.840098  2087.200380   250.692616\n",
       "std     594.799696   877.435378   298.428367\n",
       "min     786.140015   753.669983    35.793999\n",
       "25%    1056.649994  1501.992493    59.854001\n",
       "50%    1197.260010  1829.619995    69.537998\n",
       "75%    1568.387481  3116.869996   421.145012\n",
       "max    3014.179932  3731.409912  1229.910034"
      ]
     },
     "execution_count": 15,
     "metadata": {},
     "output_type": "execute_result"
    }
   ],
   "source": [
    "final_data.describe()"
   ]
  },
  {
   "cell_type": "code",
   "execution_count": 17,
   "id": "3548e646",
   "metadata": {},
   "outputs": [
    {
     "data": {
      "text/plain": [
       "'GOOG'"
      ]
     },
     "execution_count": 17,
     "metadata": {},
     "output_type": "execute_result"
    }
   ],
   "source": [
    "stocks[0]"
   ]
  },
  {
   "cell_type": "markdown",
   "id": "ae3807c4",
   "metadata": {},
   "source": [
    "## II-2 Data viz"
   ]
  },
  {
   "cell_type": "code",
   "execution_count": 21,
   "id": "b673771e",
   "metadata": {},
   "outputs": [],
   "source": [
    "def rainbow(categories):\n",
    "    \"\"\"\n",
    "    This function generates a dictionary of color codes for each category.\n",
    "    \"\"\"\n",
    "    c_scale = cm.rainbow(np.linspace(0,1,len(categories)))\n",
    "    c_dict = {}\n",
    "\n",
    "    for i,c in zip(categories,c_scale):\n",
    "        c_dict[i] = c\n",
    "        \n",
    "    return c_dict"
   ]
  },
  {
   "cell_type": "code",
   "execution_count": 22,
   "id": "903dc811",
   "metadata": {},
   "outputs": [],
   "source": [
    "def underline(string):\n",
    "    chr_start = \"\\033[4m\"\n",
    "    chr_end = \"\\033[0m\"\n",
    "    print(chr_start + string + chr_end)"
   ]
  },
  {
   "cell_type": "code",
   "execution_count": 31,
   "id": "18986a36",
   "metadata": {},
   "outputs": [],
   "source": [
    "def plot_stocks(data,stocks):\n",
    "    fig, ax1 = plt.subplots(nrows=1, ncols=1, figsize = (15,10))\n",
    "\n",
    "    L=[0,1,2]\n",
    "    # Subplot #1\n",
    "    color = rainbow(L)\n",
    "    for i in L: ax1.plot (data['close_'+stocks[i]], c = color[i], label = stocks[i], linewidth=1)\n",
    "\n",
    "\n",
    "\n",
    "\n",
    "    # Formatting\n",
    "    ax1.set_title (\"stocks evolution\")\n",
    "    ax1.set_ylabel (\"price\")\n",
    "    ax1.legend(title = \"stock\", loc = \"upper right\")"
   ]
  },
  {
   "cell_type": "code",
   "execution_count": 32,
   "id": "06886454",
   "metadata": {},
   "outputs": [
    {
     "data": {
      "image/png": "[encoded data removed]",
      "text/plain": [
       "<Figure size 1080x720 with 1 Axes>"
      ]
     },
     "metadata": {},
     "output_type": "display_data"
    }
   ],
   "source": [
    "plot_stocks(final_data,stocks)"
   ]
  },
  {
   "cell_type": "markdown",
   "id": "43b322c8",
   "metadata": {},
   "source": [
    " we suppose that we invest 100$ in each of these  three stocks at 2017-01-01 , so let's see how much it worth at 2021-12-31 "
   ]
  },
  {
   "cell_type": "code",
   "execution_count": 43,
   "id": "5ddbd34e",
   "metadata": {},
   "outputs": [],
   "source": [
    "def investement_return(amount,data,stocks):\n",
    "    _return=round((amount/data.loc['2017-01-03']['close_'+stocks[0]])*data.loc['2021-12-31']['close_'+stocks[0]]+\n",
    "      (amount/data.loc['2017-01-03']['close_'+stocks[1]])*data.loc['2021-12-31']['close_'+stocks[1]]+\n",
    "      (amount/data.loc['2017-01-03']['close_'+stocks[2]])*data.loc['2021-12-31']['close_'+stocks[2]],2)\n",
    "    return _return"
   ]
  },
  {
   "cell_type": "code",
   "execution_count": 44,
   "id": "a7a9f144",
   "metadata": {},
   "outputs": [
    {
     "name": "stdout",
     "output_type": "stream",
     "text": [
      "At the end of this period of investement, 300$ will worth:3250.69$ \n"
     ]
    }
   ],
   "source": [
    "\n",
    "amount=100\n",
    "print('At the end of this period of investement, {}$ will worth:{}$ '.format(3*amount,investement_return(amount,final_data,stocks)))\n"
   ]
  },
  {
   "cell_type": "code",
   "execution_count": 45,
   "id": "5bfc8412",
   "metadata": {},
   "outputs": [
    {
     "name": "stdout",
     "output_type": "stream",
     "text": [
      "C:\\Users\\DELL\n"
     ]
    }
   ],
   "source": [
    "cd"
   ]
  },
  {
   "cell_type": "markdown",
   "id": "69737106",
   "metadata": {},
   "source": [
    "# STEP III: GET TO KNOW DATA"
   ]
  },
  {
   "cell_type": "markdown",
   "id": "0546e3e0",
   "metadata": {},
   "source": [
    "### weekly value of stocks "
   ]
  },
  {
   "cell_type": "code",
   "execution_count": 46,
   "id": "f5199af6",
   "metadata": {},
   "outputs": [],
   "source": [
    "def weekly_value(data,stocks,amount):\n",
    "    agg_dict1 = {'close_'+stocks[0]: 'first','close_'+stocks[1]: 'first', 'close_'+stocks[2]: 'first'}\n",
    "    agg_dict2 = {'close_'+stocks[0]: 'last','close_'+stocks[1]: 'last','close_'+stocks[2]: 'last' }\n",
    "    df_1 = data.resample('W').agg(agg_dict1)\n",
    "    df_2 = data.resample('W').agg(agg_dict2)\n",
    "    df_3=((df_2.subtract(df_1)).div(df_1))*amount\n",
    "    return df_3\n",
    "\n",
    "# resampled dataframe\n",
    "# 'W' means weekly aggregation\n",
    "\n",
    "\n",
    "    \n"
   ]
  },
  {
   "cell_type": "code",
   "execution_count": 47,
   "id": "37f68fd0",
   "metadata": {},
   "outputs": [],
   "source": [
    "\n",
    "df=weekly_value(final_data,stocks,amount)\n"
   ]
  },
  {
   "cell_type": "code",
   "execution_count": 48,
   "id": "3a8fd6c0",
   "metadata": {},
   "outputs": [
    {
     "data": {
      "text/html": [
       "<div>\n",
       "<style scoped>\n",
       "    .dataframe tbody tr th:only-of-type {\n",
       "        vertical-align: middle;\n",
       "    }\n",
       "\n",
       "    .dataframe tbody tr th {\n",
       "        vertical-align: top;\n",
       "    }\n",
       "\n",
       "    .dataframe thead th {\n",
       "        text-align: right;\n",
       "    }\n",
       "</style>\n",
       "<table border=\"1\" class=\"dataframe\">\n",
       "  <thead>\n",
       "    <tr style=\"text-align: right;\">\n",
       "      <th></th>\n",
       "      <th>close_GOOG</th>\n",
       "      <th>close_AMZN</th>\n",
       "      <th>close_TSLA</th>\n",
       "    </tr>\n",
       "    <tr>\n",
       "      <th>date</th>\n",
       "      <th></th>\n",
       "      <th></th>\n",
       "      <th></th>\n",
       "    </tr>\n",
       "  </thead>\n",
       "  <tbody>\n",
       "    <tr>\n",
       "      <th>2017-01-08</th>\n",
       "      <td>2.545349</td>\n",
       "      <td>5.615191</td>\n",
       "      <td>5.539424</td>\n",
       "    </tr>\n",
       "    <tr>\n",
       "      <th>2017-01-15</th>\n",
       "      <td>0.152480</td>\n",
       "      <td>2.537273</td>\n",
       "      <td>2.797471</td>\n",
       "    </tr>\n",
       "    <tr>\n",
       "      <th>2017-01-22</th>\n",
       "      <td>0.050961</td>\n",
       "      <td>-0.171659</td>\n",
       "      <td>3.884027</td>\n",
       "    </tr>\n",
       "    <tr>\n",
       "      <th>2017-01-29</th>\n",
       "      <td>0.488216</td>\n",
       "      <td>2.187364</td>\n",
       "      <td>1.618994</td>\n",
       "    </tr>\n",
       "    <tr>\n",
       "      <th>2017-02-05</th>\n",
       "      <td>-0.103452</td>\n",
       "      <td>-2.430212</td>\n",
       "      <td>0.279296</td>\n",
       "    </tr>\n",
       "  </tbody>\n",
       "</table>\n",
       "</div>"
      ],
      "text/plain": [
       "            close_GOOG  close_AMZN  close_TSLA\n",
       "date                                          \n",
       "2017-01-08    2.545349    5.615191    5.539424\n",
       "2017-01-15    0.152480    2.537273    2.797471\n",
       "2017-01-22    0.050961   -0.171659    3.884027\n",
       "2017-01-29    0.488216    2.187364    1.618994\n",
       "2017-02-05   -0.103452   -2.430212    0.279296"
      ]
     },
     "execution_count": 48,
     "metadata": {},
     "output_type": "execute_result"
    }
   ],
   "source": [
    "df.head()"
   ]
  },
  {
   "cell_type": "code",
   "execution_count": 49,
   "id": "a013c9a1",
   "metadata": {},
   "outputs": [
    {
     "data": {
      "image/png": "[encoded data removed]",
      "text/plain": [
       "<Figure size 1080x720 with 1 Axes>"
      ]
     },
     "metadata": {},
     "output_type": "display_data"
    }
   ],
   "source": [
    "plot_stocks(df,stocks)"
   ]
  },
  {
   "cell_type": "markdown",
   "id": "fe41f4fe",
   "metadata": {},
   "source": [
    "## daily return"
   ]
  },
  {
   "cell_type": "code",
   "execution_count": 50,
   "id": "b62c8192",
   "metadata": {},
   "outputs": [],
   "source": [
    "def daily_return(data,stocks):\n",
    "    first_stock=((data['close_'+stocks[0]]/data['close_'+stocks[0]].shift(1))-1)\n",
    "    second_stock=((data['close_'+stocks[1]]/data['close_'+stocks[1]].shift(1))-1)\n",
    "    third_stock=((data['close_'+stocks[2]]/data['close_'+stocks[2]].shift(1))-1)\n",
    "    frame={stocks[0]:first_stock,stocks[1]:second_stock,stocks[2]:third_stock}\n",
    "    return pd.DataFrame(frame).fillna(0)\n"
   ]
  },
  {
   "cell_type": "code",
   "execution_count": 51,
   "id": "f4c2dbcc",
   "metadata": {},
   "outputs": [],
   "source": [
    "data_2021=compute_missing_data(concatenated_data(stocks,'2021-01-01','2021-12-31'))"
   ]
  },
  {
   "cell_type": "code",
   "execution_count": 620,
   "id": "e31a1057",
   "metadata": {},
   "outputs": [
    {
     "data": {
      "text/html": [
       "<div>\n",
       "<style scoped>\n",
       "    .dataframe tbody tr th:only-of-type {\n",
       "        vertical-align: middle;\n",
       "    }\n",
       "\n",
       "    .dataframe tbody tr th {\n",
       "        vertical-align: top;\n",
       "    }\n",
       "\n",
       "    .dataframe thead th {\n",
       "        text-align: right;\n",
       "    }\n",
       "</style>\n",
       "<table border=\"1\" class=\"dataframe\">\n",
       "  <thead>\n",
       "    <tr style=\"text-align: right;\">\n",
       "      <th></th>\n",
       "      <th>close_GOOG</th>\n",
       "      <th>close_AMZN</th>\n",
       "      <th>close_TSLA</th>\n",
       "    </tr>\n",
       "    <tr>\n",
       "      <th>date</th>\n",
       "      <th></th>\n",
       "      <th></th>\n",
       "      <th></th>\n",
       "    </tr>\n",
       "  </thead>\n",
       "  <tbody>\n",
       "    <tr>\n",
       "      <th>2021-12-27</th>\n",
       "      <td>2961.280029</td>\n",
       "      <td>3393.389893</td>\n",
       "      <td>1093.939941</td>\n",
       "    </tr>\n",
       "    <tr>\n",
       "      <th>2021-12-28</th>\n",
       "      <td>2928.959961</td>\n",
       "      <td>3413.219971</td>\n",
       "      <td>1088.469971</td>\n",
       "    </tr>\n",
       "    <tr>\n",
       "      <th>2021-12-29</th>\n",
       "      <td>2930.090088</td>\n",
       "      <td>3384.020020</td>\n",
       "      <td>1086.189941</td>\n",
       "    </tr>\n",
       "    <tr>\n",
       "      <th>2021-12-30</th>\n",
       "      <td>2920.050049</td>\n",
       "      <td>3372.889893</td>\n",
       "      <td>1070.339966</td>\n",
       "    </tr>\n",
       "    <tr>\n",
       "      <th>2021-12-31</th>\n",
       "      <td>2893.590088</td>\n",
       "      <td>3372.889893</td>\n",
       "      <td>1056.780029</td>\n",
       "    </tr>\n",
       "  </tbody>\n",
       "</table>\n",
       "</div>"
      ],
      "text/plain": [
       "             close_GOOG   close_AMZN   close_TSLA\n",
       "date                                             \n",
       "2021-12-27  2961.280029  3393.389893  1093.939941\n",
       "2021-12-28  2928.959961  3413.219971  1088.469971\n",
       "2021-12-29  2930.090088  3384.020020  1086.189941\n",
       "2021-12-30  2920.050049  3372.889893  1070.339966\n",
       "2021-12-31  2893.590088  3372.889893  1056.780029"
      ]
     },
     "execution_count": 620,
     "metadata": {},
     "output_type": "execute_result"
    }
   ],
   "source": []
  },
  {
   "cell_type": "code",
   "execution_count": 52,
   "id": "db089182",
   "metadata": {},
   "outputs": [
    {
     "data": {
      "text/html": [
       "<div>\n",
       "<style scoped>\n",
       "    .dataframe tbody tr th:only-of-type {\n",
       "        vertical-align: middle;\n",
       "    }\n",
       "\n",
       "    .dataframe tbody tr th {\n",
       "        vertical-align: top;\n",
       "    }\n",
       "\n",
       "    .dataframe thead th {\n",
       "        text-align: right;\n",
       "    }\n",
       "</style>\n",
       "<table border=\"1\" class=\"dataframe\">\n",
       "  <thead>\n",
       "    <tr style=\"text-align: right;\">\n",
       "      <th></th>\n",
       "      <th>GOOG</th>\n",
       "      <th>AMZN</th>\n",
       "      <th>TSLA</th>\n",
       "    </tr>\n",
       "    <tr>\n",
       "      <th>date</th>\n",
       "      <th></th>\n",
       "      <th></th>\n",
       "      <th></th>\n",
       "    </tr>\n",
       "  </thead>\n",
       "  <tbody>\n",
       "    <tr>\n",
       "      <th>2021-01-04</th>\n",
       "      <td>0.000000</td>\n",
       "      <td>0.000000</td>\n",
       "      <td>0.000000</td>\n",
       "    </tr>\n",
       "    <tr>\n",
       "      <th>2021-01-05</th>\n",
       "      <td>0.007337</td>\n",
       "      <td>0.000000</td>\n",
       "      <td>0.007317</td>\n",
       "    </tr>\n",
       "    <tr>\n",
       "      <th>2021-01-06</th>\n",
       "      <td>-0.003234</td>\n",
       "      <td>-0.015141</td>\n",
       "      <td>0.028390</td>\n",
       "    </tr>\n",
       "    <tr>\n",
       "      <th>2021-01-07</th>\n",
       "      <td>0.029943</td>\n",
       "      <td>0.007577</td>\n",
       "      <td>0.079447</td>\n",
       "    </tr>\n",
       "    <tr>\n",
       "      <th>2021-01-08</th>\n",
       "      <td>0.000000</td>\n",
       "      <td>0.006496</td>\n",
       "      <td>0.078403</td>\n",
       "    </tr>\n",
       "  </tbody>\n",
       "</table>\n",
       "</div>"
      ],
      "text/plain": [
       "                GOOG      AMZN      TSLA\n",
       "date                                    \n",
       "2021-01-04  0.000000  0.000000  0.000000\n",
       "2021-01-05  0.007337  0.000000  0.007317\n",
       "2021-01-06 -0.003234 -0.015141  0.028390\n",
       "2021-01-07  0.029943  0.007577  0.079447\n",
       "2021-01-08  0.000000  0.006496  0.078403"
      ]
     },
     "execution_count": 52,
     "metadata": {},
     "output_type": "execute_result"
    }
   ],
   "source": [
    "returns=daily_return(data_2021,stocks)\n",
    "returns.head()"
   ]
  },
  {
   "cell_type": "code",
   "execution_count": 53,
   "id": "148b0fef",
   "metadata": {},
   "outputs": [
    {
     "data": {
      "text/html": [
       "<div>\n",
       "<style scoped>\n",
       "    .dataframe tbody tr th:only-of-type {\n",
       "        vertical-align: middle;\n",
       "    }\n",
       "\n",
       "    .dataframe tbody tr th {\n",
       "        vertical-align: top;\n",
       "    }\n",
       "\n",
       "    .dataframe thead th {\n",
       "        text-align: right;\n",
       "    }\n",
       "</style>\n",
       "<table border=\"1\" class=\"dataframe\">\n",
       "  <thead>\n",
       "    <tr style=\"text-align: right;\">\n",
       "      <th></th>\n",
       "      <th>close_GOOG</th>\n",
       "      <th>close_AMZN</th>\n",
       "      <th>close_TSLA</th>\n",
       "    </tr>\n",
       "    <tr>\n",
       "      <th>date</th>\n",
       "      <th></th>\n",
       "      <th></th>\n",
       "      <th></th>\n",
       "    </tr>\n",
       "  </thead>\n",
       "  <tbody>\n",
       "    <tr>\n",
       "      <th>2017-01-03</th>\n",
       "      <td>786.140015</td>\n",
       "      <td>753.669983</td>\n",
       "      <td>43.397999</td>\n",
       "    </tr>\n",
       "    <tr>\n",
       "      <th>2017-01-04</th>\n",
       "      <td>786.900024</td>\n",
       "      <td>757.179993</td>\n",
       "      <td>45.397999</td>\n",
       "    </tr>\n",
       "    <tr>\n",
       "      <th>2017-01-05</th>\n",
       "      <td>794.020020</td>\n",
       "      <td>780.450012</td>\n",
       "      <td>45.349998</td>\n",
       "    </tr>\n",
       "    <tr>\n",
       "      <th>2017-01-06</th>\n",
       "      <td>806.150024</td>\n",
       "      <td>795.989990</td>\n",
       "      <td>45.801998</td>\n",
       "    </tr>\n",
       "    <tr>\n",
       "      <th>2017-01-09</th>\n",
       "      <td>806.650024</td>\n",
       "      <td>796.919983</td>\n",
       "      <td>46.256001</td>\n",
       "    </tr>\n",
       "  </tbody>\n",
       "</table>\n",
       "</div>"
      ],
      "text/plain": [
       "            close_GOOG  close_AMZN  close_TSLA\n",
       "date                                          \n",
       "2017-01-03  786.140015  753.669983   43.397999\n",
       "2017-01-04  786.900024  757.179993   45.397999\n",
       "2017-01-05  794.020020  780.450012   45.349998\n",
       "2017-01-06  806.150024  795.989990   45.801998\n",
       "2017-01-09  806.650024  796.919983   46.256001"
      ]
     },
     "execution_count": 53,
     "metadata": {},
     "output_type": "execute_result"
    }
   ],
   "source": [
    "final_data.head()"
   ]
  },
  {
   "cell_type": "code",
   "execution_count": 58,
   "id": "ac1e964a",
   "metadata": {},
   "outputs": [
    {
     "data": {
      "text/html": [
       "<div>\n",
       "<style scoped>\n",
       "    .dataframe tbody tr th:only-of-type {\n",
       "        vertical-align: middle;\n",
       "    }\n",
       "\n",
       "    .dataframe tbody tr th {\n",
       "        vertical-align: top;\n",
       "    }\n",
       "\n",
       "    .dataframe thead th {\n",
       "        text-align: right;\n",
       "    }\n",
       "</style>\n",
       "<table border=\"1\" class=\"dataframe\">\n",
       "  <thead>\n",
       "    <tr style=\"text-align: right;\">\n",
       "      <th></th>\n",
       "      <th>GOOG</th>\n",
       "      <th>AMZN</th>\n",
       "      <th>TSLA</th>\n",
       "    </tr>\n",
       "    <tr>\n",
       "      <th>date</th>\n",
       "      <th></th>\n",
       "      <th></th>\n",
       "      <th></th>\n",
       "    </tr>\n",
       "  </thead>\n",
       "  <tbody>\n",
       "    <tr>\n",
       "      <th>2021-01-04</th>\n",
       "      <td>0.000000</td>\n",
       "      <td>0.000000</td>\n",
       "      <td>0.000000</td>\n",
       "    </tr>\n",
       "    <tr>\n",
       "      <th>2021-01-05</th>\n",
       "      <td>0.007337</td>\n",
       "      <td>0.000000</td>\n",
       "      <td>0.007317</td>\n",
       "    </tr>\n",
       "    <tr>\n",
       "      <th>2021-01-06</th>\n",
       "      <td>-0.003234</td>\n",
       "      <td>-0.015141</td>\n",
       "      <td>0.028390</td>\n",
       "    </tr>\n",
       "    <tr>\n",
       "      <th>2021-01-07</th>\n",
       "      <td>0.029943</td>\n",
       "      <td>0.007577</td>\n",
       "      <td>0.079447</td>\n",
       "    </tr>\n",
       "    <tr>\n",
       "      <th>2021-01-08</th>\n",
       "      <td>0.000000</td>\n",
       "      <td>0.006496</td>\n",
       "      <td>0.078403</td>\n",
       "    </tr>\n",
       "    <tr>\n",
       "      <th>...</th>\n",
       "      <td>...</td>\n",
       "      <td>...</td>\n",
       "      <td>...</td>\n",
       "    </tr>\n",
       "    <tr>\n",
       "      <th>2021-12-27</th>\n",
       "      <td>0.007588</td>\n",
       "      <td>-0.008178</td>\n",
       "      <td>0.025248</td>\n",
       "    </tr>\n",
       "    <tr>\n",
       "      <th>2021-12-28</th>\n",
       "      <td>-0.010914</td>\n",
       "      <td>0.005844</td>\n",
       "      <td>-0.005000</td>\n",
       "    </tr>\n",
       "    <tr>\n",
       "      <th>2021-12-29</th>\n",
       "      <td>0.000386</td>\n",
       "      <td>-0.008555</td>\n",
       "      <td>-0.002095</td>\n",
       "    </tr>\n",
       "    <tr>\n",
       "      <th>2021-12-30</th>\n",
       "      <td>-0.003427</td>\n",
       "      <td>-0.003289</td>\n",
       "      <td>-0.014592</td>\n",
       "    </tr>\n",
       "    <tr>\n",
       "      <th>2021-12-31</th>\n",
       "      <td>-0.009061</td>\n",
       "      <td>0.000000</td>\n",
       "      <td>-0.012669</td>\n",
       "    </tr>\n",
       "  </tbody>\n",
       "</table>\n",
       "<p>252 rows × 3 columns</p>\n",
       "</div>"
      ],
      "text/plain": [
       "                GOOG      AMZN      TSLA\n",
       "date                                    \n",
       "2021-01-04  0.000000  0.000000  0.000000\n",
       "2021-01-05  0.007337  0.000000  0.007317\n",
       "2021-01-06 -0.003234 -0.015141  0.028390\n",
       "2021-01-07  0.029943  0.007577  0.079447\n",
       "2021-01-08  0.000000  0.006496  0.078403\n",
       "...              ...       ...       ...\n",
       "2021-12-27  0.007588 -0.008178  0.025248\n",
       "2021-12-28 -0.010914  0.005844 -0.005000\n",
       "2021-12-29  0.000386 -0.008555 -0.002095\n",
       "2021-12-30 -0.003427 -0.003289 -0.014592\n",
       "2021-12-31 -0.009061  0.000000 -0.012669\n",
       "\n",
       "[252 rows x 3 columns]"
      ]
     },
     "execution_count": 58,
     "metadata": {},
     "output_type": "execute_result"
    }
   ],
   "source": [
    "returns"
   ]
  },
  {
   "cell_type": "markdown",
   "id": "acc59214",
   "metadata": {},
   "source": [
    "lets plot their histogram to check the normality"
   ]
  },
  {
   "cell_type": "code",
   "execution_count": 59,
   "id": "90802446",
   "metadata": {},
   "outputs": [],
   "source": [
    "def plot_hist(data,stocks):\n",
    "    returns=daily_return(data,stocks)\n",
    "    plt.figure(figsize=(16,5))\n",
    "    returns.hist(column=[stocks[0],stocks[1],stocks[2]])\n",
    "    \n",
    "    "
   ]
  },
  {
   "cell_type": "code",
   "execution_count": 60,
   "id": "ad43e736",
   "metadata": {},
   "outputs": [
    {
     "data": {
      "text/plain": [
       "<Figure size 1152x360 with 0 Axes>"
      ]
     },
     "metadata": {},
     "output_type": "display_data"
    },
    {
     "data": {
      "image/png": "[encoded data removed]",
      "text/plain": [
       "<Figure size 432x288 with 4 Axes>"
      ]
     },
     "metadata": {},
     "output_type": "display_data"
    }
   ],
   "source": [
    "plot_hist(data_2021,stocks)"
   ]
  },
  {
   "cell_type": "markdown",
   "id": "08a81b5c",
   "metadata": {},
   "source": [
    "Checking normality using Shapiro-Wilk Test\n",
    "\n",
    "H0:The sample comes from a normal distribution.\n",
    "\n",
    "H0:The sample is not coming from normal distribution.\n"
   ]
  },
  {
   "cell_type": "code",
   "execution_count": 438,
   "id": "2aa0c3e2",
   "metadata": {
    "scrolled": true
   },
   "outputs": [],
   "source": [
    "from scipy.stats import shapiro\n",
    "# normality test\n",
    "def normality_test(data,stocks):\n",
    "    returns=daily_return(data,stocks)\n",
    "    for column in returns.columns:\n",
    "        print(column)\n",
    "        stat, p_value = shapiro(returns[column])\n",
    "        print('Statistics=%.3f, p_value=%.3f' % (stat, p_value))\n",
    "# interpret\n",
    "        alpha = 0.05\n",
    "        if p_value > alpha:\n",
    "            print('Sample looks Gaussian (fail to reject H0)')\n",
    "        else:\n",
    "            print('Sample does not look Gaussian (reject H0)')"
   ]
  },
  {
   "cell_type": "code",
   "execution_count": 439,
   "id": "8b77bd9c",
   "metadata": {},
   "outputs": [
    {
     "name": "stdout",
     "output_type": "stream",
     "text": [
      "GOOG\n",
      "Statistics=0.908, p_value=0.000\n",
      "Sample does not look Gaussian (reject H0)\n",
      "AMZN\n",
      "Statistics=0.924, p_value=0.000\n",
      "Sample does not look Gaussian (reject H0)\n",
      "TSLA\n",
      "Statistics=0.911, p_value=0.000\n",
      "Sample does not look Gaussian (reject H0)\n"
     ]
    }
   ],
   "source": [
    "normality_test(final_data,stocks)"
   ]
  },
  {
   "cell_type": "markdown",
   "id": "f3b101f0",
   "metadata": {},
   "source": [
    "### Monthly metrics computation for 2021"
   ]
  },
  {
   "cell_type": "code",
   "execution_count": 623,
   "id": "fb0d812a",
   "metadata": {},
   "outputs": [
    {
     "data": {
      "text/html": [
       "<div>\n",
       "<style scoped>\n",
       "    .dataframe tbody tr th:only-of-type {\n",
       "        vertical-align: middle;\n",
       "    }\n",
       "\n",
       "    .dataframe tbody tr th {\n",
       "        vertical-align: top;\n",
       "    }\n",
       "\n",
       "    .dataframe thead th {\n",
       "        text-align: right;\n",
       "    }\n",
       "</style>\n",
       "<table border=\"1\" class=\"dataframe\">\n",
       "  <thead>\n",
       "    <tr style=\"text-align: right;\">\n",
       "      <th></th>\n",
       "      <th>close_GOOG</th>\n",
       "      <th>close_AMZN</th>\n",
       "      <th>close_TSLA</th>\n",
       "    </tr>\n",
       "    <tr>\n",
       "      <th>date</th>\n",
       "      <th></th>\n",
       "      <th></th>\n",
       "      <th></th>\n",
       "    </tr>\n",
       "  </thead>\n",
       "  <tbody>\n",
       "    <tr>\n",
       "      <th>2021-01-04</th>\n",
       "      <td>1728.239990</td>\n",
       "      <td>3186.629883</td>\n",
       "      <td>729.770020</td>\n",
       "    </tr>\n",
       "    <tr>\n",
       "      <th>2021-01-05</th>\n",
       "      <td>1740.920044</td>\n",
       "      <td>3186.629883</td>\n",
       "      <td>735.109985</td>\n",
       "    </tr>\n",
       "    <tr>\n",
       "      <th>2021-01-06</th>\n",
       "      <td>1735.290039</td>\n",
       "      <td>3138.379883</td>\n",
       "      <td>755.979980</td>\n",
       "    </tr>\n",
       "    <tr>\n",
       "      <th>2021-01-07</th>\n",
       "      <td>1787.250000</td>\n",
       "      <td>3162.159912</td>\n",
       "      <td>816.039978</td>\n",
       "    </tr>\n",
       "    <tr>\n",
       "      <th>2021-01-08</th>\n",
       "      <td>1787.250000</td>\n",
       "      <td>3182.699951</td>\n",
       "      <td>880.020020</td>\n",
       "    </tr>\n",
       "  </tbody>\n",
       "</table>\n",
       "</div>"
      ],
      "text/plain": [
       "             close_GOOG   close_AMZN  close_TSLA\n",
       "date                                            \n",
       "2021-01-04  1728.239990  3186.629883  729.770020\n",
       "2021-01-05  1740.920044  3186.629883  735.109985\n",
       "2021-01-06  1735.290039  3138.379883  755.979980\n",
       "2021-01-07  1787.250000  3162.159912  816.039978\n",
       "2021-01-08  1787.250000  3182.699951  880.020020"
      ]
     },
     "execution_count": 623,
     "metadata": {},
     "output_type": "execute_result"
    }
   ],
   "source": [
    "data_2021=compute_missing_data(concatenated_data(stocks,'2021-01-01','2021-12-31'))\n",
    "data_2021.head()"
   ]
  },
  {
   "cell_type": "markdown",
   "id": "094f6d3a",
   "metadata": {},
   "source": [
    "#### Returns"
   ]
  },
  {
   "cell_type": "code",
   "execution_count": 440,
   "id": "1df0c8b7",
   "metadata": {},
   "outputs": [],
   "source": [
    "def monthly_return(data,stocks):\n",
    "    first_stock = data['close_'+stocks[0]].resample('M').ffill().pct_change()\n",
    "    second_stock = data['close_'+stocks[1]].resample('M').ffill().pct_change()\n",
    "    third_stock = data['close_'+stocks[2]].resample('M').ffill().pct_change()\n",
    "    frame={stocks[0]:first_stock,stocks[1]:second_stock,stocks[2]:third_stock}\n",
    "    return pd.DataFrame(frame).fillna(0)\n",
    "   \n",
    "\n"
   ]
  },
  {
   "cell_type": "code",
   "execution_count": 442,
   "id": "05caadf7",
   "metadata": {},
   "outputs": [
    {
     "data": {
      "text/html": [
       "<div>\n",
       "<style scoped>\n",
       "    .dataframe tbody tr th:only-of-type {\n",
       "        vertical-align: middle;\n",
       "    }\n",
       "\n",
       "    .dataframe tbody tr th {\n",
       "        vertical-align: top;\n",
       "    }\n",
       "\n",
       "    .dataframe thead th {\n",
       "        text-align: right;\n",
       "    }\n",
       "</style>\n",
       "<table border=\"1\" class=\"dataframe\">\n",
       "  <thead>\n",
       "    <tr style=\"text-align: right;\">\n",
       "      <th></th>\n",
       "      <th>GOOG</th>\n",
       "      <th>AMZN</th>\n",
       "      <th>TSLA</th>\n",
       "    </tr>\n",
       "    <tr>\n",
       "      <th>date</th>\n",
       "      <th></th>\n",
       "      <th></th>\n",
       "      <th></th>\n",
       "    </tr>\n",
       "  </thead>\n",
       "  <tbody>\n",
       "    <tr>\n",
       "      <th>2021-01-31</th>\n",
       "      <td>0.000000</td>\n",
       "      <td>0.000000</td>\n",
       "      <td>0.000000</td>\n",
       "    </tr>\n",
       "    <tr>\n",
       "      <th>2021-02-28</th>\n",
       "      <td>0.109558</td>\n",
       "      <td>-0.035328</td>\n",
       "      <td>-0.148740</td>\n",
       "    </tr>\n",
       "    <tr>\n",
       "      <th>2021-03-31</th>\n",
       "      <td>0.015597</td>\n",
       "      <td>0.000372</td>\n",
       "      <td>-0.011207</td>\n",
       "    </tr>\n",
       "    <tr>\n",
       "      <th>2021-04-30</th>\n",
       "      <td>0.174637</td>\n",
       "      <td>0.120663</td>\n",
       "      <td>0.062147</td>\n",
       "    </tr>\n",
       "    <tr>\n",
       "      <th>2021-05-31</th>\n",
       "      <td>-0.007543</td>\n",
       "      <td>-0.070470</td>\n",
       "      <td>-0.118713</td>\n",
       "    </tr>\n",
       "  </tbody>\n",
       "</table>\n",
       "</div>"
      ],
      "text/plain": [
       "                GOOG      AMZN      TSLA\n",
       "date                                    \n",
       "2021-01-31  0.000000  0.000000  0.000000\n",
       "2021-02-28  0.109558 -0.035328 -0.148740\n",
       "2021-03-31  0.015597  0.000372 -0.011207\n",
       "2021-04-30  0.174637  0.120663  0.062147\n",
       "2021-05-31 -0.007543 -0.070470 -0.118713"
      ]
     },
     "execution_count": 442,
     "metadata": {},
     "output_type": "execute_result"
    }
   ],
   "source": [
    "month_returns=monthly_return(data_2021,stocks)\n",
    "month_returns.head()"
   ]
  },
  {
   "cell_type": "markdown",
   "id": "4c535116",
   "metadata": {},
   "source": [
    "volatility = std(sum(return)) * sqrt(trading days)"
   ]
  },
  {
   "cell_type": "code",
   "execution_count": 486,
   "id": "23371f92",
   "metadata": {},
   "outputs": [],
   "source": [
    "def annualized_volatility(data,stocks):\n",
    "    returns=daily_return(data,stocks)\n",
    "    for column in returns.columns:\n",
    "        print(column+ ' annualized Volatility:')\n",
    "        returns[column]\n",
    "        volatility = np.std(returns[column])*np.sqrt(252)\n",
    "        print(volatility)"
   ]
  },
  {
   "cell_type": "code",
   "execution_count": 487,
   "id": "81243dbb",
   "metadata": {},
   "outputs": [
    {
     "name": "stdout",
     "output_type": "stream",
     "text": [
      "GOOG annualized Volatility:\n",
      "0.23784233251471731\n",
      "AMZN annualized Volatility:\n",
      "0.2413410523407816\n",
      "TSLA annualized Volatility:\n",
      "0.5289822239913697\n"
     ]
    }
   ],
   "source": [
    "annualized_volatility(data_2021,stocks)"
   ]
  },
  {
   "cell_type": "markdown",
   "id": "2afc1e07",
   "metadata": {},
   "source": [
    "The Sharpe Ratio is the average return earned in excess of the risk-free rate per unit of volatility "
   ]
  },
  {
   "cell_type": "code",
   "execution_count": 413,
   "id": "58c375c0",
   "metadata": {},
   "outputs": [],
   "source": [
    "\n",
    "def annualized_sharp_ratio(data,stocks,TRADING_DAYS):\n",
    "    for dataframe in daily_return(data,stocks):\n",
    "        print(dataframe.name[6:] + ' sharp ratio:')\n",
    "        sharpe_ratio = (np.mean(dataframe)/np.std(dataframe))*np.sqrt(TRADING_DAYS)\n",
    "        print(sharpe_ratio)"
   ]
  },
  {
   "cell_type": "code",
   "execution_count": 414,
   "id": "a4a7bb7d",
   "metadata": {},
   "outputs": [
    {
     "name": "stdout",
     "output_type": "stream",
     "text": [
      "GOOG sharp ratio:\n",
      "2.2872846933259066\n",
      "AMZN sharp ratio:\n",
      "0.35635515859060574\n",
      "TSLA sharp ratio:\n",
      "0.9631113144658817\n"
     ]
    }
   ],
   "source": [
    "annualized_sharp_ratio(data_2021,stocks,252)"
   ]
  },
  {
   "cell_type": "markdown",
   "id": "8cfd955c",
   "metadata": {},
   "source": [
    "# STEPIV: INVESTOR STRATEGIES SIMULATIONS"
   ]
  },
  {
   "cell_type": "markdown",
   "id": "ae252ff7",
   "metadata": {},
   "source": [
    "In this Part wi will look at the concepts of portfolio management. Wi will use the Modern Portfolio Theory(MPT).\n",
    "\n",
    "Our goal is to choose the weights for each asset in our portfolio such that we maximize the expected return given a level of risk .\n",
    "\n",
    "Mathematically, we can model this probleme   as shown below:\n",
    "\n",
    ">maximize E[(weights)'.returns]\n",
    "    \n",
    ">subj to  portfolio_variance= \\begin{equation} \\sigma^2 \\end{equation}\n",
    "    "
   ]
  },
  {
   "cell_type": "code",
   "execution_count": null,
   "id": "367b1014",
   "metadata": {},
   "outputs": [],
   "source": [
    "returns="
   ]
  },
  {
   "cell_type": "code",
   "execution_count": 654,
   "id": "603bd030",
   "metadata": {},
   "outputs": [],
   "source": [
    "def portfolio_return(data,stocks,weights):\n",
    "    returns=daily_return(data,stocks)\n",
    "    portfolio_return=returns.dot(weights)\n",
    "    return portfolio_return.mean()\n",
    "    "
   ]
  },
  {
   "cell_type": "code",
   "execution_count": 657,
   "id": "958d9a9e",
   "metadata": {},
   "outputs": [],
   "source": [
    "def portfolio_volatility(data,stocks,weights):\n",
    "    returns=daily_return(data,stocks)\n",
    "    variance_matrix=returns.cov()*252\n",
    "    portfolio_variance=np.transpose(weights)@variance_matrix@weights\n",
    "    portfolio_volatility=np.sqrt(portfolio_variance)\n",
    "    return portfolio_volatility\n",
    "    "
   ]
  },
  {
   "cell_type": "code",
   "execution_count": 658,
   "id": "6a58742d",
   "metadata": {},
   "outputs": [
    {
     "data": {
      "text/plain": [
       "0.2577281814963313"
      ]
     },
     "execution_count": 658,
     "metadata": {},
     "output_type": "execute_result"
    }
   ],
   "source": [
    "portfolio_volatility(data_2021,stocks,weights)"
   ]
  },
  {
   "cell_type": "markdown",
   "id": "eb565ba4",
   "metadata": {},
   "source": [
    "The task for us now is to optimize the weights. ie find the Portfolio with minimum Volatility (Risk)."
   ]
  },
  {
   "cell_type": "code",
   "execution_count": 596,
   "id": "5e66075f",
   "metadata": {},
   "outputs": [],
   "source": [
    "def opimized_portfolio(data,stocks,number_portfolio):\n",
    "    num_stocks=len(stocks)\n",
    "    portfolio_weights=[]\n",
    "    port_ret=[]\n",
    "    portfol_volatility=[]\n",
    "    for i in range(number_portfolio):\n",
    "        weights=np.random.random(num_stocks)\n",
    "        weights=weights/np.sum(weights)\n",
    "        portfolio_weights.append(weights)\n",
    "        port_ret+=[portfolio_return(data,stocks,portfolio_weights[i])]\n",
    "        portfol_volatility+=[portfolio_volatility(data,stocks,portfolio_weights[i])]\n",
    "    dic={'return':port_ret,'volatility':portfol_volatility}\n",
    "    for x,stock in enumerate(data.columns.tolist()):\n",
    "        dic[stock[6:]+'_wieght']=[w[x] for w in portfolio_weights]\n",
    "    df=pd.DataFrame(dic)\n",
    "    min_volatility=df.iloc[df['volatility'].idxmin()]\n",
    "    return min_volatility\n",
    "\n",
    "    \n",
    "        \n",
    "        "
   ]
  },
  {
   "cell_type": "code",
   "execution_count": 602,
   "id": "44ae6c61",
   "metadata": {
    "scrolled": true
   },
   "outputs": [
    {
     "data": {
      "text/plain": [
       "return         0.001306\n",
       "volatility     0.211061\n",
       "GOOG_wieght    0.478185\n",
       "AMZN_wieght    0.465192\n",
       "TSLA_wieght    0.056624\n",
       "Name: 36, dtype: float64"
      ]
     },
     "execution_count": 602,
     "metadata": {},
     "output_type": "execute_result"
    }
   ],
   "source": [
    "best_invest=opimized_portfolio(data_2021,stocks,100)\n",
    "best_invest"
   ]
  },
  {
   "cell_type": "code",
   "execution_count": 603,
   "id": "0997e365",
   "metadata": {},
   "outputs": [
    {
     "data": {
      "text/plain": [
       "0.4781847291593612"
      ]
     },
     "execution_count": 603,
     "metadata": {},
     "output_type": "execute_result"
    }
   ],
   "source": [
    "best_invest[2]"
   ]
  },
  {
   "cell_type": "code",
   "execution_count": 610,
   "id": "ae0b8393",
   "metadata": {},
   "outputs": [],
   "source": [
    "def investement_decision(data,stocks):\n",
    "    best_invest=opimized_portfolio(data,stocks,100)\n",
    "    print(\"for Brayen the best investement hi can make to minimize his risk is as folow:invest {}$ in {}, {}$ in {}, and {}$ in {}\".format(round(1000*best_invest[2],2),stocks[0],round(1000*best_invest[3],2),stocks[1],round(1000*best_invest[4],2),stocks[2]))"
   ]
  },
  {
   "cell_type": "code",
   "execution_count": 611,
   "id": "67346834",
   "metadata": {},
   "outputs": [
    {
     "name": "stdout",
     "output_type": "stream",
     "text": [
      "for Brayen the best investement hi can make to minimize his risk is as folow:invest 479.42$ in GOOG, 482.72$ in AMZN, and 37.86$ in TSLA\n"
     ]
    }
   ],
   "source": [
    "investement_decision(data_2021,stocks)"
   ]
  },
  {
   "cell_type": "markdown",
   "id": "c529d222",
   "metadata": {},
   "source": [
    "## comparaison between previos aproach and Naïve uniform investment strategy "
   ]
  },
  {
   "cell_type": "code",
   "execution_count": 614,
   "id": "101a2a06",
   "metadata": {},
   "outputs": [
    {
     "name": "stdout",
     "output_type": "stream",
     "text": [
      "Volatility for Naïve uniform investment strategyis:0.2572381813557438 \n"
     ]
    }
   ],
   "source": [
    "print(\"Volatility for Naïve uniform investment strategyis:{} \".format(portfolio_volatility(data_2021,stocks,[1/3,1/3,1/3])))"
   ]
  },
  {
   "cell_type": "markdown",
   "id": "ea0b9309",
   "metadata": {},
   "source": [
    "The volatility of Naïve uniform investment strategyis is high then the volatility of the previous portfolio, so this allocation  is more efficient"
   ]
  },
  {
   "cell_type": "markdown",
   "id": "69bec814",
   "metadata": {},
   "source": [
    "## Beta of Those Two strategies"
   ]
  },
  {
   "attachments": {
    "Capture.PNG": {
     "image/png": "[encoded data removed]"
    }
   },
   "cell_type": "markdown",
   "id": "b0384bcd",
   "metadata": {},
   "source": [
    "![Capture.PNG](attachment:Capture.PNG)"
   ]
  },
  {
   "cell_type": "code",
   "execution_count": 621,
   "id": "97a59dd2",
   "metadata": {},
   "outputs": [
    {
     "data": {
      "text/plain": [
       "['GOOG', 'AMZN', 'TSLA']"
      ]
     },
     "execution_count": 621,
     "metadata": {},
     "output_type": "execute_result"
    }
   ],
   "source": [
    "stocks"
   ]
  },
  {
   "cell_type": "code",
   "execution_count": 629,
   "id": "fcb40599",
   "metadata": {},
   "outputs": [],
   "source": [
    "stocks1=['GOOG', 'TSLA','NDX']\n",
    "stocks2=['GOOG', 'AMZN','NDX']\n",
    "data1=compute_missing_data(concatenated_data(stocks1,'2021-01-01','2021-12-31'))\n",
    "data2=compute_missing_data(concatenated_data(stocks2,'2021-01-01','2021-12-31'))"
   ]
  },
  {
   "cell_type": "code",
   "execution_count": 632,
   "id": "bbe56c31",
   "metadata": {},
   "outputs": [
    {
     "data": {
      "text/html": [
       "<div>\n",
       "<style scoped>\n",
       "    .dataframe tbody tr th:only-of-type {\n",
       "        vertical-align: middle;\n",
       "    }\n",
       "\n",
       "    .dataframe tbody tr th {\n",
       "        vertical-align: top;\n",
       "    }\n",
       "\n",
       "    .dataframe thead th {\n",
       "        text-align: right;\n",
       "    }\n",
       "</style>\n",
       "<table border=\"1\" class=\"dataframe\">\n",
       "  <thead>\n",
       "    <tr style=\"text-align: right;\">\n",
       "      <th></th>\n",
       "      <th>close_GOOG</th>\n",
       "      <th>close_TSLA</th>\n",
       "      <th>close_NDX</th>\n",
       "    </tr>\n",
       "    <tr>\n",
       "      <th>date</th>\n",
       "      <th></th>\n",
       "      <th></th>\n",
       "      <th></th>\n",
       "    </tr>\n",
       "  </thead>\n",
       "  <tbody>\n",
       "    <tr>\n",
       "      <th>2021-01-04</th>\n",
       "      <td>1728.239990</td>\n",
       "      <td>729.770020</td>\n",
       "      <td>12694.660156</td>\n",
       "    </tr>\n",
       "    <tr>\n",
       "      <th>2021-01-05</th>\n",
       "      <td>1740.920044</td>\n",
       "      <td>735.109985</td>\n",
       "      <td>12802.379883</td>\n",
       "    </tr>\n",
       "    <tr>\n",
       "      <th>2021-01-06</th>\n",
       "      <td>1735.290039</td>\n",
       "      <td>755.979980</td>\n",
       "      <td>12802.379883</td>\n",
       "    </tr>\n",
       "    <tr>\n",
       "      <th>2021-01-07</th>\n",
       "      <td>1787.250000</td>\n",
       "      <td>816.039978</td>\n",
       "      <td>12939.570313</td>\n",
       "    </tr>\n",
       "    <tr>\n",
       "      <th>2021-01-08</th>\n",
       "      <td>1787.250000</td>\n",
       "      <td>880.020020</td>\n",
       "      <td>12939.570313</td>\n",
       "    </tr>\n",
       "  </tbody>\n",
       "</table>\n",
       "</div>"
      ],
      "text/plain": [
       "             close_GOOG  close_TSLA     close_NDX\n",
       "date                                             \n",
       "2021-01-04  1728.239990  729.770020  12694.660156\n",
       "2021-01-05  1740.920044  735.109985  12802.379883\n",
       "2021-01-06  1735.290039  755.979980  12802.379883\n",
       "2021-01-07  1787.250000  816.039978  12939.570313\n",
       "2021-01-08  1787.250000  880.020020  12939.570313"
      ]
     },
     "execution_count": 632,
     "metadata": {},
     "output_type": "execute_result"
    }
   ],
   "source": [
    "data1.head()"
   ]
  },
  {
   "cell_type": "code",
   "execution_count": 638,
   "id": "4f3593ce",
   "metadata": {},
   "outputs": [],
   "source": [
    "def beta(data,stock,benchmark):\n",
    "    cov = data.cov()\n",
    "    var = data[benchmark].var()\n",
    "    beta=cov.loc[stock, benchmark]/var\n",
    "    return beta"
   ]
  },
  {
   "cell_type": "code",
   "execution_count": 644,
   "id": "70f93b4d",
   "metadata": {},
   "outputs": [],
   "source": [
    "beta_google=beta(data1,'close_GOOG','close_NDX')\n",
    "beta_TESLA=beta(data1,'close_TSLA','close_NDX')\n",
    "beta_amazon=beta(data2,'close_AMZN','close_NDX')"
   ]
  },
  {
   "cell_type": "code",
   "execution_count": 646,
   "id": "fd2f0ec4",
   "metadata": {},
   "outputs": [
    {
     "name": "stdout",
     "output_type": "stream",
     "text": [
      "Beta of the first strategy=0.1960101346150401\n",
      "Beta of the second strategy=0.1648196213829846\n"
     ]
    }
   ],
   "source": [
    "google_amount_invested=round(1000*best_invest[2],2)\n",
    "amazon_amount_invested=round(1000*best_invest[3],2)\n",
    "tesla_amount_invested=round(1000*best_invest[4],2)\n",
    "print('Beta of the first strategy={}'.format((google_amount_invested/1000)*beta_google + (amazon_amount_invested/1000)*beta_amazon + (tesla_amount_invested/1000)*beta_TESLA ))\n",
    "print('Beta of the second strategy={}'.format((1/3)*beta_google + (1/3)*beta_amazon + (1/3)*beta_TESLA ))"
   ]
  }
 ],
 "metadata": {
  "kernelspec": {
   "display_name": "Python 3",
   "language": "python",
   "name": "python3"
  },
  "language_info": {
   "codemirror_mode": {
    "name": "ipython",
    "version": 3
   },
   "file_extension": ".py",
   "mimetype": "text/x-python",
   "name": "python",
   "nbconvert_exporter": "python",
   "pygments_lexer": "ipython3",
   "version": "3.8.8"
  }
 },
 "nbformat": 4,
 "nbformat_minor": 5
}
